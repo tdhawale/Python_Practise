{
 "cells": [
  {
   "cell_type": "code",
   "execution_count": 1,
   "metadata": {},
   "outputs": [],
   "source": [
    "import matplotlib.pyplot as plt\n",
    "import numpy as np\n",
    "\n",
    "#add %matplotlib inline if using a Jupyter notebook, remove if using a .py script\n",
    "%matplotlib inline"
   ]
  },
  {
   "cell_type": "code",
   "execution_count": 8,
   "metadata": {},
   "outputs": [
    {
     "data": {
      "image/png": "[encoded data removed]",
      "text/plain": [
       "<Figure size 432x288 with 1 Axes>"
      ]
     },
     "metadata": {
      "needs_background": "light"
     },
     "output_type": "display_data"
    }
   ],
   "source": [
    "fig, ax = plt.subplots()\n",
    "\n",
    "x_pos = [0, -0.5 , 0.1 , 0.3 , 0.8]\n",
    "y_pos = [0, 0.5 , 0.3 , 0.6 , 0.1]\n",
    "x_direct = [1, 0 , 1 , 0 , 1]\n",
    "y_direct = [1, -1 ,1 , 1, 0]\n",
    "\n",
    "ax.quiver(x_pos[0],y_pos[0],x_direct[0],y_direct[0], scale=10 , pivot='mid',color='red')\n",
    "ax.quiver(x_pos[1],y_pos[1],x_direct[1],y_direct[1], scale=15, pivot='mid',color='green')\n",
    "ax.quiver(x_pos[2],y_pos[2],x_direct[2],y_direct[2], scale=25, pivot='mid',color='blue')\n",
    "ax.quiver(x_pos[3],y_pos[3],x_direct[3],y_direct[3], scale=30, pivot='mid',color='black')\n",
    "ax.quiver(x_pos[4],y_pos[4],x_direct[4],y_direct[4], scale=35, pivot='mid',color='yellow')\n",
    "ax.axis([-1.5,1.5,-1.5,1.5])\n",
    "\n",
    "plt.show()"
   ]
  },
  {
   "cell_type": "code",
   "execution_count": null,
   "metadata": {},
   "outputs": [],
   "source": [
    "# cmap = plt.cm.jet\n",
    "# cNorm  = colors.Normalize(vmin=0, vmax=1)\n",
    "# scalarMap = cmx.ScalarMappable(norm=cNorm,cmap=cmap)\n",
    "\n",
    "\n",
    "# fig, ax = plt.subplots(figsize=(10,10))\n",
    "# l4 = []\n",
    "# for i in range (data.shape[0]):\n",
    "#     vel = np.hypot(data[3][i],data[4][i])\n",
    "#     if(vel <0.20):                     \n",
    "#         ax.quiver(data[0][i],data[1][i],data[3][i],data[4][i],pivot='mid',color='blue', scale=35)\n",
    "#     elif(vel >=0.20 and vel < 0.40):\n",
    "#         ax.quiver(data[0][i],data[1][i],data[3][i],data[4][i],pivot='mid',color='red' , scale=30)\n",
    "#     elif(vel >=0.40 and vel < 0.60):\n",
    "#         ax.quiver(data[0][i],data[1][i],data[3][i],data[4][i],pivot='mid',color='black' , scale=25)\n",
    "#     elif(vel >=0.60 and vel < 0.80):\n",
    "#         ax.quiver(data[0][i],data[1][i],data[3][i],data[4][i],pivot='mid',color='green' , scale=20)\n",
    "#     else : \n",
    "#         ax.quiver(data[0][i],data[1][i],data[3][i],data[4][i],pivot='mid',color='yellow' , scale=15)\n",
    "\n",
    "# ax.quiver(data[0][1],data[1][1],data[3][1],data[4][1],pivot='mid',color='blue', scale=10)        \n",
    "# ax.set_title('Direction_of_Water_Plot')\n",
    "# ax.set_aspect('equal')\n",
    "# ax.use_sticky_edges = False\n",
    "# ax.set_aspect('equal')\n",
    "# #print('Done showing the data')\n",
    "# #cmap = mpl.colors.ListedColormap(['blue','black','gray'])\n",
    "# #cax = fig.add_axes([0.75,0.075,0.07,0.85])\n",
    "# #color_base = mpl.colorbar.ColorbarBase(cax,cmap = cmap,orientation = 'vertical')\n",
    "# #color_base.set_ticks([0.2,0.6,0.9])\n",
    "# #color_base.set_ticklabels(['Low', 'Medium', 'High']) \n",
    "# #color_base.set_label('Velocity')\n",
    "# #plt.legend(loc='center left', bbox_to_anchor=(1.25, 0.5), ncol=1)\n",
    "# #plt.colorbar(quiver)\n",
    "# plt.tight_layout()\n"
   ]
  },
  {
   "cell_type": "code",
   "execution_count": null,
   "metadata": {},
   "outputs": [],
   "source": [
    "cmap = plt.cm.jet\n",
    "cNorm  = colors.Normalize(vmin=0, vmax=1)\n",
    "scalarMap = cmx.ScalarMappable(norm=cNorm,cmap=cmap)\n",
    "\n",
    "fig, ax = plt.subplots(figsize=(10,10))\n",
    "\n",
    "\n",
    "n = -2\n",
    "color_array = np.sqrt(((data[4]-n)/2)**2 + ((data[3]-n)/2)**2)\n",
    "\n",
    "\n",
    "plot = ax.quiver(data[0],data[1],data[3],data[4],color_array ,pivot='mid' , scale = 10 )\n",
    "ax.set_title('Direction_of_Water_Plot')\n",
    "ax.set_aspect('equal')\n",
    "ax.use_sticky_edges = False\n",
    "#cax = fig.add_axes([0.75,0.075,0.07,0.85])\n",
    "#color_base = mpl.colorbar.ColorbarBase(cax,cmap = cmap)\n",
    "plt.colorbar(plot)"
   ]
  }
 ],
 "metadata": {
  "kernelspec": {
   "display_name": "Python 3",
   "language": "python",
   "name": "python3"
  },
  "language_info": {
   "codemirror_mode": {
    "name": "ipython",
    "version": 3
   },
   "file_extension": ".py",
   "mimetype": "text/x-python",
   "name": "python",
   "nbconvert_exporter": "python",
   "pygments_lexer": "ipython3",
   "version": "3.8.0"
  },
  "toc": {
   "base_numbering": 1,
   "nav_menu": {},
   "number_sections": true,
   "sideBar": true,
   "skip_h1_title": false,
   "title_cell": "Table of Contents",
   "title_sidebar": "Contents",
   "toc_cell": false,
   "toc_position": {},
   "toc_section_display": true,
   "toc_window_display": false
  }
 },
 "nbformat": 4,
 "nbformat_minor": 4
}
